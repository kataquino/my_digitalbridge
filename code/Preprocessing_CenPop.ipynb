{
 "cells": [
  {
   "cell_type": "code",
   "execution_count": 1,
   "metadata": {},
   "outputs": [],
   "source": [
    "import pandas as pd"
   ]
  },
  {
   "cell_type": "markdown",
   "metadata": {},
   "source": [
    "### Load datasets"
   ]
  },
  {
   "cell_type": "code",
   "execution_count": 54,
   "metadata": {},
   "outputs": [],
   "source": [
    "df_lea_tract = pd.read_csv(\"../data/lea_tract.csv\")"
   ]
  },
  {
   "cell_type": "code",
   "execution_count": 55,
   "metadata": {},
   "outputs": [
    {
     "data": {
      "text/html": [
       "<div>\n",
       "<style scoped>\n",
       "    .dataframe tbody tr th:only-of-type {\n",
       "        vertical-align: middle;\n",
       "    }\n",
       "\n",
       "    .dataframe tbody tr th {\n",
       "        vertical-align: top;\n",
       "    }\n",
       "\n",
       "    .dataframe thead th {\n",
       "        text-align: right;\n",
       "    }\n",
       "</style>\n",
       "<table border=\"1\" class=\"dataframe\">\n",
       "  <thead>\n",
       "    <tr style=\"text-align: right;\">\n",
       "      <th></th>\n",
       "      <th>LEAID</th>\n",
       "      <th>NAME_LEA19</th>\n",
       "      <th>TRACT</th>\n",
       "    </tr>\n",
       "  </thead>\n",
       "  <tbody>\n",
       "    <tr>\n",
       "      <th>0</th>\n",
       "      <td>100001</td>\n",
       "      <td>Fort Rucker School District (AL)</td>\n",
       "      <td>1031010300</td>\n",
       "    </tr>\n",
       "    <tr>\n",
       "      <th>1</th>\n",
       "      <td>100001</td>\n",
       "      <td>Fort Rucker School District (AL)</td>\n",
       "      <td>1045020000</td>\n",
       "    </tr>\n",
       "    <tr>\n",
       "      <th>2</th>\n",
       "      <td>100003</td>\n",
       "      <td>Maxwell AFB School District (AL)</td>\n",
       "      <td>1101000900</td>\n",
       "    </tr>\n",
       "    <tr>\n",
       "      <th>3</th>\n",
       "      <td>100003</td>\n",
       "      <td>Maxwell AFB School District (AL)</td>\n",
       "      <td>1101001000</td>\n",
       "    </tr>\n",
       "    <tr>\n",
       "      <th>4</th>\n",
       "      <td>100003</td>\n",
       "      <td>Maxwell AFB School District (AL)</td>\n",
       "      <td>1101006000</td>\n",
       "    </tr>\n",
       "  </tbody>\n",
       "</table>\n",
       "</div>"
      ],
      "text/plain": [
       "    LEAID                        NAME_LEA19       TRACT\n",
       "0  100001  Fort Rucker School District (AL)  1031010300\n",
       "1  100001  Fort Rucker School District (AL)  1045020000\n",
       "2  100003  Maxwell AFB School District (AL)  1101000900\n",
       "3  100003  Maxwell AFB School District (AL)  1101001000\n",
       "4  100003  Maxwell AFB School District (AL)  1101006000"
      ]
     },
     "execution_count": 55,
     "metadata": {},
     "output_type": "execute_result"
    }
   ],
   "source": [
    "df_lea_tract.head()"
   ]
  },
  {
   "cell_type": "code",
   "execution_count": 56,
   "metadata": {},
   "outputs": [
    {
     "data": {
      "text/plain": [
       "(113520, 3)"
      ]
     },
     "execution_count": 56,
     "metadata": {},
     "output_type": "execute_result"
    }
   ],
   "source": [
    "df_lea_tract.shape"
   ]
  },
  {
   "cell_type": "markdown",
   "metadata": {},
   "source": [
    "#### Centers of Population by Census Tract\n",
    "\n",
    "https://www.census.gov/geographies/reference-files/2010/geo/2010-centers-population.html"
   ]
  },
  {
   "cell_type": "code",
   "execution_count": 4,
   "metadata": {},
   "outputs": [],
   "source": [
    "df_tx_pop = pd.read_csv(\"../data/CenPop2010_Mean_TR48\")"
   ]
  },
  {
   "cell_type": "code",
   "execution_count": 5,
   "metadata": {},
   "outputs": [
    {
     "data": {
      "text/html": [
       "<div>\n",
       "<style scoped>\n",
       "    .dataframe tbody tr th:only-of-type {\n",
       "        vertical-align: middle;\n",
       "    }\n",
       "\n",
       "    .dataframe tbody tr th {\n",
       "        vertical-align: top;\n",
       "    }\n",
       "\n",
       "    .dataframe thead th {\n",
       "        text-align: right;\n",
       "    }\n",
       "</style>\n",
       "<table border=\"1\" class=\"dataframe\">\n",
       "  <thead>\n",
       "    <tr style=\"text-align: right;\">\n",
       "      <th></th>\n",
       "      <th>STATEFP</th>\n",
       "      <th>COUNTYFP</th>\n",
       "      <th>TRACTCE</th>\n",
       "      <th>POPULATION</th>\n",
       "      <th>LATITUDE</th>\n",
       "      <th>LONGITUDE</th>\n",
       "    </tr>\n",
       "  </thead>\n",
       "  <tbody>\n",
       "    <tr>\n",
       "      <th>0</th>\n",
       "      <td>48</td>\n",
       "      <td>1</td>\n",
       "      <td>950100</td>\n",
       "      <td>4685</td>\n",
       "      <td>31.999364</td>\n",
       "      <td>-95.531821</td>\n",
       "    </tr>\n",
       "    <tr>\n",
       "      <th>1</th>\n",
       "      <td>48</td>\n",
       "      <td>1</td>\n",
       "      <td>950401</td>\n",
       "      <td>5422</td>\n",
       "      <td>31.755614</td>\n",
       "      <td>-95.823901</td>\n",
       "    </tr>\n",
       "    <tr>\n",
       "      <th>2</th>\n",
       "      <td>48</td>\n",
       "      <td>1</td>\n",
       "      <td>950402</td>\n",
       "      <td>7535</td>\n",
       "      <td>31.784637</td>\n",
       "      <td>-95.902841</td>\n",
       "    </tr>\n",
       "    <tr>\n",
       "      <th>3</th>\n",
       "      <td>48</td>\n",
       "      <td>1</td>\n",
       "      <td>950500</td>\n",
       "      <td>4377</td>\n",
       "      <td>31.776938</td>\n",
       "      <td>-95.631712</td>\n",
       "    </tr>\n",
       "    <tr>\n",
       "      <th>4</th>\n",
       "      <td>48</td>\n",
       "      <td>1</td>\n",
       "      <td>950600</td>\n",
       "      <td>6405</td>\n",
       "      <td>31.747594</td>\n",
       "      <td>-95.666055</td>\n",
       "    </tr>\n",
       "  </tbody>\n",
       "</table>\n",
       "</div>"
      ],
      "text/plain": [
       "   STATEFP  COUNTYFP  TRACTCE  POPULATION   LATITUDE  LONGITUDE\n",
       "0       48         1   950100        4685  31.999364 -95.531821\n",
       "1       48         1   950401        5422  31.755614 -95.823901\n",
       "2       48         1   950402        7535  31.784637 -95.902841\n",
       "3       48         1   950500        4377  31.776938 -95.631712\n",
       "4       48         1   950600        6405  31.747594 -95.666055"
      ]
     },
     "execution_count": 5,
     "metadata": {},
     "output_type": "execute_result"
    }
   ],
   "source": [
    "df_tx_pop.head()"
   ]
  },
  {
   "cell_type": "code",
   "execution_count": 23,
   "metadata": {},
   "outputs": [
    {
     "data": {
      "text/plain": [
       "(5265, 6)"
      ]
     },
     "execution_count": 23,
     "metadata": {},
     "output_type": "execute_result"
    }
   ],
   "source": [
    "df_tx_pop.shape"
   ]
  },
  {
   "cell_type": "markdown",
   "metadata": {},
   "source": [
    "### Preprocessing lea_tract"
   ]
  },
  {
   "cell_type": "code",
   "execution_count": 57,
   "metadata": {},
   "outputs": [],
   "source": [
    "# create tract_only column in df_lea_tract\n",
    "# take only texas (state code 48)\n",
    "\n",
    "def select_tract_only(row):\n",
    "    return int(str(row)[-6:])\n",
    "\n",
    "def select_tx_only(row):\n",
    "    return int(str(row)[:2])\n",
    "\n",
    "def select_county(row):\n",
    "    return int(str(row)[2:5])\n",
    "\n",
    "df_lea_tract['TRACT_ONLY'] = df_lea_tract['TRACT'].apply(select_tract_only)\n",
    "df_lea_tract['STATEFP1'] = df_lea_tract['TRACT'].apply(select_tx_only)\n",
    "df_lea_tract['COUNTYFP1'] = df_lea_tract['TRACT'].apply(select_county)"
   ]
  },
  {
   "cell_type": "code",
   "execution_count": 58,
   "metadata": {},
   "outputs": [
    {
     "data": {
      "text/plain": [
       "(8660, 6)"
      ]
     },
     "execution_count": 58,
     "metadata": {},
     "output_type": "execute_result"
    }
   ],
   "source": [
    "df_lea_tract_tx = df_lea_tract[df_lea_tract.STATEFP1 == 48]\n",
    "df_lea_tract_tx.shape"
   ]
  },
  {
   "cell_type": "code",
   "execution_count": 59,
   "metadata": {},
   "outputs": [
    {
     "data": {
      "text/html": [
       "<div>\n",
       "<style scoped>\n",
       "    .dataframe tbody tr th:only-of-type {\n",
       "        vertical-align: middle;\n",
       "    }\n",
       "\n",
       "    .dataframe tbody tr th {\n",
       "        vertical-align: top;\n",
       "    }\n",
       "\n",
       "    .dataframe thead th {\n",
       "        text-align: right;\n",
       "    }\n",
       "</style>\n",
       "<table border=\"1\" class=\"dataframe\">\n",
       "  <thead>\n",
       "    <tr style=\"text-align: right;\">\n",
       "      <th></th>\n",
       "      <th>LEAID</th>\n",
       "      <th>NAME_LEA19</th>\n",
       "      <th>TRACT</th>\n",
       "      <th>TRACT_ONLY</th>\n",
       "      <th>STATEFP1</th>\n",
       "      <th>COUNTYFP1</th>\n",
       "    </tr>\n",
       "  </thead>\n",
       "  <tbody>\n",
       "    <tr>\n",
       "      <th>94939</th>\n",
       "      <td>4800001</td>\n",
       "      <td>Crosbyton Consolidated Independent School Dist...</td>\n",
       "      <td>48107950100</td>\n",
       "      <td>950100</td>\n",
       "      <td>48</td>\n",
       "      <td>107</td>\n",
       "    </tr>\n",
       "    <tr>\n",
       "      <th>94940</th>\n",
       "      <td>4800001</td>\n",
       "      <td>Crosbyton Consolidated Independent School Dist...</td>\n",
       "      <td>48107950200</td>\n",
       "      <td>950200</td>\n",
       "      <td>48</td>\n",
       "      <td>107</td>\n",
       "    </tr>\n",
       "    <tr>\n",
       "      <th>94941</th>\n",
       "      <td>4800001</td>\n",
       "      <td>Crosbyton Consolidated Independent School Dist...</td>\n",
       "      <td>48169950100</td>\n",
       "      <td>950100</td>\n",
       "      <td>48</td>\n",
       "      <td>169</td>\n",
       "    </tr>\n",
       "    <tr>\n",
       "      <th>94942</th>\n",
       "      <td>4800002</td>\n",
       "      <td>Spur Independent School District (TX)</td>\n",
       "      <td>48125950300</td>\n",
       "      <td>950300</td>\n",
       "      <td>48</td>\n",
       "      <td>125</td>\n",
       "    </tr>\n",
       "    <tr>\n",
       "      <th>94943</th>\n",
       "      <td>4800002</td>\n",
       "      <td>Spur Independent School District (TX)</td>\n",
       "      <td>48263950100</td>\n",
       "      <td>950100</td>\n",
       "      <td>48</td>\n",
       "      <td>263</td>\n",
       "    </tr>\n",
       "  </tbody>\n",
       "</table>\n",
       "</div>"
      ],
      "text/plain": [
       "         LEAID                                         NAME_LEA19  \\\n",
       "94939  4800001  Crosbyton Consolidated Independent School Dist...   \n",
       "94940  4800001  Crosbyton Consolidated Independent School Dist...   \n",
       "94941  4800001  Crosbyton Consolidated Independent School Dist...   \n",
       "94942  4800002              Spur Independent School District (TX)   \n",
       "94943  4800002              Spur Independent School District (TX)   \n",
       "\n",
       "             TRACT  TRACT_ONLY  STATEFP1  COUNTYFP1  \n",
       "94939  48107950100      950100        48        107  \n",
       "94940  48107950200      950200        48        107  \n",
       "94941  48169950100      950100        48        169  \n",
       "94942  48125950300      950300        48        125  \n",
       "94943  48263950100      950100        48        263  "
      ]
     },
     "execution_count": 59,
     "metadata": {},
     "output_type": "execute_result"
    }
   ],
   "source": [
    "df_lea_tract_tx.head()"
   ]
  },
  {
   "cell_type": "code",
   "execution_count": 65,
   "metadata": {},
   "outputs": [],
   "source": [
    "# join tables by df_tx_pop.TRACTCE and df_lea_tract.TRACT_ONLY\n",
    "\n",
    "df_result_practice = pd.merge(df_lea_tract, df_tx_pop, \n",
    "                              how='inner', left_on=['STATEFP1', 'COUNTYFP1', 'TRACT_ONLY'], \n",
    "                              right_on=['STATEFP','COUNTYFP','TRACTCE'])\n",
    "\n",
    "# clean up, drop redundant columns\n",
    "df_result_practice = df_result_practice.drop(['STATEFP1', 'COUNTYFP1', 'TRACT_ONLY'], axis=1)"
   ]
  },
  {
   "cell_type": "code",
   "execution_count": 66,
   "metadata": {},
   "outputs": [
    {
     "data": {
      "text/plain": [
       "(8660, 9)"
      ]
     },
     "execution_count": 66,
     "metadata": {},
     "output_type": "execute_result"
    }
   ],
   "source": [
    "df_result_practice.shape"
   ]
  },
  {
   "cell_type": "code",
   "execution_count": 68,
   "metadata": {},
   "outputs": [
    {
     "data": {
      "text/html": [
       "<div>\n",
       "<style scoped>\n",
       "    .dataframe tbody tr th:only-of-type {\n",
       "        vertical-align: middle;\n",
       "    }\n",
       "\n",
       "    .dataframe tbody tr th {\n",
       "        vertical-align: top;\n",
       "    }\n",
       "\n",
       "    .dataframe thead th {\n",
       "        text-align: right;\n",
       "    }\n",
       "</style>\n",
       "<table border=\"1\" class=\"dataframe\">\n",
       "  <thead>\n",
       "    <tr style=\"text-align: right;\">\n",
       "      <th></th>\n",
       "      <th>LEAID</th>\n",
       "      <th>NAME_LEA19</th>\n",
       "      <th>TRACT</th>\n",
       "      <th>STATEFP</th>\n",
       "      <th>COUNTYFP</th>\n",
       "      <th>TRACTCE</th>\n",
       "      <th>POPULATION</th>\n",
       "      <th>LATITUDE</th>\n",
       "      <th>LONGITUDE</th>\n",
       "    </tr>\n",
       "  </thead>\n",
       "  <tbody>\n",
       "    <tr>\n",
       "      <th>0</th>\n",
       "      <td>4800001</td>\n",
       "      <td>Crosbyton Consolidated Independent School Dist...</td>\n",
       "      <td>48107950100</td>\n",
       "      <td>48</td>\n",
       "      <td>107</td>\n",
       "      <td>950100</td>\n",
       "      <td>2234</td>\n",
       "      <td>33.648090</td>\n",
       "      <td>-101.227149</td>\n",
       "    </tr>\n",
       "    <tr>\n",
       "      <th>2</th>\n",
       "      <td>4800001</td>\n",
       "      <td>Crosbyton Consolidated Independent School Dist...</td>\n",
       "      <td>48107950200</td>\n",
       "      <td>48</td>\n",
       "      <td>107</td>\n",
       "      <td>950200</td>\n",
       "      <td>2346</td>\n",
       "      <td>33.678198</td>\n",
       "      <td>-101.381889</td>\n",
       "    </tr>\n",
       "    <tr>\n",
       "      <th>5</th>\n",
       "      <td>4800001</td>\n",
       "      <td>Crosbyton Consolidated Independent School Dist...</td>\n",
       "      <td>48169950100</td>\n",
       "      <td>48</td>\n",
       "      <td>169</td>\n",
       "      <td>950100</td>\n",
       "      <td>6461</td>\n",
       "      <td>33.198856</td>\n",
       "      <td>-101.385674</td>\n",
       "    </tr>\n",
       "    <tr>\n",
       "      <th>10</th>\n",
       "      <td>4800002</td>\n",
       "      <td>Spur Independent School District (TX)</td>\n",
       "      <td>48263950100</td>\n",
       "      <td>48</td>\n",
       "      <td>263</td>\n",
       "      <td>950100</td>\n",
       "      <td>808</td>\n",
       "      <td>33.247856</td>\n",
       "      <td>-100.629728</td>\n",
       "    </tr>\n",
       "    <tr>\n",
       "      <th>8</th>\n",
       "      <td>4800002</td>\n",
       "      <td>Spur Independent School District (TX)</td>\n",
       "      <td>48125950300</td>\n",
       "      <td>48</td>\n",
       "      <td>125</td>\n",
       "      <td>950300</td>\n",
       "      <td>2444</td>\n",
       "      <td>33.534982</td>\n",
       "      <td>-100.852578</td>\n",
       "    </tr>\n",
       "    <tr>\n",
       "      <th>...</th>\n",
       "      <td>...</td>\n",
       "      <td>...</td>\n",
       "      <td>...</td>\n",
       "      <td>...</td>\n",
       "      <td>...</td>\n",
       "      <td>...</td>\n",
       "      <td>...</td>\n",
       "      <td>...</td>\n",
       "      <td>...</td>\n",
       "    </tr>\n",
       "    <tr>\n",
       "      <th>1844</th>\n",
       "      <td>4846770</td>\n",
       "      <td>Zephyr Independent School District (TX)</td>\n",
       "      <td>48049950300</td>\n",
       "      <td>48</td>\n",
       "      <td>49</td>\n",
       "      <td>950300</td>\n",
       "      <td>3143</td>\n",
       "      <td>31.768371</td>\n",
       "      <td>-98.837187</td>\n",
       "    </tr>\n",
       "    <tr>\n",
       "      <th>8286</th>\n",
       "      <td>4848285</td>\n",
       "      <td>Hallettsville Independent School District (9-1...</td>\n",
       "      <td>48285000400</td>\n",
       "      <td>48</td>\n",
       "      <td>285</td>\n",
       "      <td>400</td>\n",
       "      <td>3586</td>\n",
       "      <td>29.428260</td>\n",
       "      <td>-97.164082</td>\n",
       "    </tr>\n",
       "    <tr>\n",
       "      <th>5704</th>\n",
       "      <td>4848285</td>\n",
       "      <td>Hallettsville Independent School District (9-1...</td>\n",
       "      <td>48285000200</td>\n",
       "      <td>48</td>\n",
       "      <td>285</td>\n",
       "      <td>200</td>\n",
       "      <td>3544</td>\n",
       "      <td>29.450155</td>\n",
       "      <td>-96.966021</td>\n",
       "    </tr>\n",
       "    <tr>\n",
       "      <th>5212</th>\n",
       "      <td>4899130</td>\n",
       "      <td>Benavides Independent School District (TX)</td>\n",
       "      <td>48131950500</td>\n",
       "      <td>48</td>\n",
       "      <td>131</td>\n",
       "      <td>950500</td>\n",
       "      <td>3178</td>\n",
       "      <td>27.527459</td>\n",
       "      <td>-98.397895</td>\n",
       "    </tr>\n",
       "    <tr>\n",
       "      <th>5207</th>\n",
       "      <td>4899130</td>\n",
       "      <td>Benavides Independent School District (TX)</td>\n",
       "      <td>48131950200</td>\n",
       "      <td>48</td>\n",
       "      <td>131</td>\n",
       "      <td>950200</td>\n",
       "      <td>3290</td>\n",
       "      <td>27.878304</td>\n",
       "      <td>-98.607707</td>\n",
       "    </tr>\n",
       "  </tbody>\n",
       "</table>\n",
       "<p>8660 rows × 9 columns</p>\n",
       "</div>"
      ],
      "text/plain": [
       "        LEAID                                         NAME_LEA19        TRACT  \\\n",
       "0     4800001  Crosbyton Consolidated Independent School Dist...  48107950100   \n",
       "2     4800001  Crosbyton Consolidated Independent School Dist...  48107950200   \n",
       "5     4800001  Crosbyton Consolidated Independent School Dist...  48169950100   \n",
       "10    4800002              Spur Independent School District (TX)  48263950100   \n",
       "8     4800002              Spur Independent School District (TX)  48125950300   \n",
       "...       ...                                                ...          ...   \n",
       "1844  4846770            Zephyr Independent School District (TX)  48049950300   \n",
       "8286  4848285  Hallettsville Independent School District (9-1...  48285000400   \n",
       "5704  4848285  Hallettsville Independent School District (9-1...  48285000200   \n",
       "5212  4899130         Benavides Independent School District (TX)  48131950500   \n",
       "5207  4899130         Benavides Independent School District (TX)  48131950200   \n",
       "\n",
       "      STATEFP  COUNTYFP  TRACTCE  POPULATION   LATITUDE   LONGITUDE  \n",
       "0          48       107   950100        2234  33.648090 -101.227149  \n",
       "2          48       107   950200        2346  33.678198 -101.381889  \n",
       "5          48       169   950100        6461  33.198856 -101.385674  \n",
       "10         48       263   950100         808  33.247856 -100.629728  \n",
       "8          48       125   950300        2444  33.534982 -100.852578  \n",
       "...       ...       ...      ...         ...        ...         ...  \n",
       "1844       48        49   950300        3143  31.768371  -98.837187  \n",
       "8286       48       285      400        3586  29.428260  -97.164082  \n",
       "5704       48       285      200        3544  29.450155  -96.966021  \n",
       "5212       48       131   950500        3178  27.527459  -98.397895  \n",
       "5207       48       131   950200        3290  27.878304  -98.607707  \n",
       "\n",
       "[8660 rows x 9 columns]"
      ]
     },
     "execution_count": 68,
     "metadata": {},
     "output_type": "execute_result"
    }
   ],
   "source": [
    "df_result_practice.sort_values('LEAID')"
   ]
  },
  {
   "cell_type": "code",
   "execution_count": 69,
   "metadata": {},
   "outputs": [
    {
     "data": {
      "text/plain": [
       "1022"
      ]
     },
     "execution_count": 69,
     "metadata": {},
     "output_type": "execute_result"
    }
   ],
   "source": [
    "df_result_practice.LEAID.nunique()"
   ]
  },
  {
   "cell_type": "code",
   "execution_count": 73,
   "metadata": {},
   "outputs": [],
   "source": [
    "# sum population by school district\n",
    "# NOTE: this is the estimated population for ALL census tracts in the school district, NOT school district population\n",
    "df_result_pop_tx = df_result_practice.groupby('LEAID')['POPULATION'].sum().to_frame().reset_index()"
   ]
  },
  {
   "cell_type": "code",
   "execution_count": 74,
   "metadata": {},
   "outputs": [
    {
     "data": {
      "text/html": [
       "<div>\n",
       "<style scoped>\n",
       "    .dataframe tbody tr th:only-of-type {\n",
       "        vertical-align: middle;\n",
       "    }\n",
       "\n",
       "    .dataframe tbody tr th {\n",
       "        vertical-align: top;\n",
       "    }\n",
       "\n",
       "    .dataframe thead th {\n",
       "        text-align: right;\n",
       "    }\n",
       "</style>\n",
       "<table border=\"1\" class=\"dataframe\">\n",
       "  <thead>\n",
       "    <tr style=\"text-align: right;\">\n",
       "      <th></th>\n",
       "      <th>LEAID</th>\n",
       "      <th>POPULATION</th>\n",
       "    </tr>\n",
       "  </thead>\n",
       "  <tbody>\n",
       "    <tr>\n",
       "      <th>0</th>\n",
       "      <td>4800001</td>\n",
       "      <td>11041</td>\n",
       "    </tr>\n",
       "    <tr>\n",
       "      <th>1</th>\n",
       "      <td>4800002</td>\n",
       "      <td>3252</td>\n",
       "    </tr>\n",
       "    <tr>\n",
       "      <th>2</th>\n",
       "      <td>4800003</td>\n",
       "      <td>7607</td>\n",
       "    </tr>\n",
       "    <tr>\n",
       "      <th>3</th>\n",
       "      <td>4800005</td>\n",
       "      <td>19119</td>\n",
       "    </tr>\n",
       "    <tr>\n",
       "      <th>4</th>\n",
       "      <td>4800006</td>\n",
       "      <td>1490</td>\n",
       "    </tr>\n",
       "  </tbody>\n",
       "</table>\n",
       "</div>"
      ],
      "text/plain": [
       "     LEAID  POPULATION\n",
       "0  4800001       11041\n",
       "1  4800002        3252\n",
       "2  4800003        7607\n",
       "3  4800005       19119\n",
       "4  4800006        1490"
      ]
     },
     "execution_count": 74,
     "metadata": {},
     "output_type": "execute_result"
    }
   ],
   "source": [
    "df_result_pop_tx.head()"
   ]
  },
  {
   "cell_type": "code",
   "execution_count": 75,
   "metadata": {},
   "outputs": [],
   "source": [
    "# save as csv\n",
    "df_result_pop_tx.to_csv('tx_pop_by_leaid.csv', index=False)"
   ]
  },
  {
   "cell_type": "code",
   "execution_count": null,
   "metadata": {},
   "outputs": [],
   "source": []
  }
 ],
 "metadata": {
  "kernelspec": {
   "display_name": "Python 3",
   "language": "python",
   "name": "python3"
  },
  "language_info": {
   "codemirror_mode": {
    "name": "ipython",
    "version": 3
   },
   "file_extension": ".py",
   "mimetype": "text/x-python",
   "name": "python",
   "nbconvert_exporter": "python",
   "pygments_lexer": "ipython3",
   "version": "3.8.3"
  }
 },
 "nbformat": 4,
 "nbformat_minor": 4
}
